{
 "cells": [
  {
   "cell_type": "code",
   "execution_count": 6,
   "id": "eab45205",
   "metadata": {},
   "outputs": [
    {
     "name": "stdout",
     "output_type": "stream",
     "text": [
      "BFS Traversal Order:\n",
      "Visiting: A\n",
      "Queueing: B\n",
      "Queueing: C\n",
      "Visiting: B\n",
      "Queueing: D\n",
      "Queueing: E\n",
      "Visiting: C\n",
      "Queueing: F\n",
      "Visiting: D\n",
      "Visiting: E\n",
      "Visiting: F\n",
      "Visited:{'A', 'D', 'B', 'E', 'F', 'C'}\n"
     ]
    }
   ],
   "source": [
    "from collections import deque\n",
    "\n",
    "def bfs(graph, start):\n",
    "    visited = set()\n",
    "    queue = deque([start])\n",
    "    visited.add(start)\n",
    "\n",
    "    print(\"BFS Traversal Order:\")\n",
    "    \n",
    "    while queue:\n",
    "        vertex = queue.popleft()\n",
    "        print(f\"Visiting: {vertex}\")\n",
    "\n",
    "        for neighbor in graph[vertex]:\n",
    "            if neighbor not in visited:\n",
    "                visited.add(neighbor)\n",
    "                queue.append(neighbor)\n",
    "                print(f\"Queueing: {neighbor}\")\n",
    "    print(f\"Visited:{visited}\")\n",
    "graph = {\n",
    "    'A': ['B', 'C'],\n",
    "    'B': ['A', 'D', 'E'],\n",
    "    'C': ['A', 'F'],\n",
    "    'D': ['B'],\n",
    "    'E': ['B', 'F'],\n",
    "    'F': ['C', 'E']\n",
    "}\n",
    "\n",
    "bfs(graph, 'A')\n"
   ]
  },
  {
   "cell_type": "code",
   "execution_count": null,
   "id": "5fc9cdf5",
   "metadata": {},
   "outputs": [],
   "source": []
  }
 ],
 "metadata": {
  "kernelspec": {
   "display_name": "Python 3",
   "language": "python",
   "name": "python3"
  },
  "language_info": {
   "codemirror_mode": {
    "name": "ipython",
    "version": 3
   },
   "file_extension": ".py",
   "mimetype": "text/x-python",
   "name": "python",
   "nbconvert_exporter": "python",
   "pygments_lexer": "ipython3",
   "version": "3.12.6"
  }
 },
 "nbformat": 4,
 "nbformat_minor": 5
}
